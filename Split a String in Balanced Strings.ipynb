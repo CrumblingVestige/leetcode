{
 "cells": [
  {
   "cell_type": "code",
   "execution_count": 2,
   "metadata": {},
   "outputs": [
    {
     "data": {
      "text/plain": [
       "\"\\nBalanced strings are those who have equal quantity of 'L' and 'R' characters.\\n\\nGiven a balanced string s split it in the maximum amount of balanced strings.\\n\\nReturn the maximum amount of splitted balanced strings.\\n\""
      ]
     },
     "execution_count": 2,
     "metadata": {},
     "output_type": "execute_result"
    }
   ],
   "source": [
    "\"\"\"\n",
    "Balanced strings are those who have equal quantity of 'L' and 'R' characters.\n",
    "\n",
    "Given a balanced string s split it in the maximum amount of balanced strings.\n",
    "\n",
    "Return the maximum amount of splitted balanced strings.\n",
    "\"\"\""
   ]
  },
  {
   "cell_type": "code",
   "execution_count": 10,
   "metadata": {},
   "outputs": [],
   "source": [
    "class Solution(object):\n",
    "    def balancedStringSplit(self, s):\n",
    "        \"\"\"\n",
    "        :type s: str\n",
    "        :rtype: int\n",
    "        \"\"\"\n",
    "        counter = 0\n",
    "        LCounter = 0\n",
    "        RCounter = 0\n",
    "        for char in s:\n",
    "            print(\"char: \",char)\n",
    "            if char == \"R\":\n",
    "                RCounter+=1\n",
    "            else:\n",
    "                LCounter+=1\n",
    "            print(\"Stats:\\nRCounter: \",RCounter,\"\\nLCounter: \",LCounter)\n",
    "            if RCounter == LCounter:\n",
    "                RCounter = 0\n",
    "                LCounter = 0 \n",
    "                counter+=1\n",
    "        return counter"
   ]
  },
  {
   "cell_type": "code",
   "execution_count": 11,
   "metadata": {},
   "outputs": [
    {
     "name": "stdout",
     "output_type": "stream",
     "text": [
      "char:  R\n",
      "Stats:\n",
      "RCounter:  1 \n",
      "LCounter:  0\n",
      "char:  L\n",
      "Stats:\n",
      "RCounter:  1 \n",
      "LCounter:  1\n",
      "char:  R\n",
      "Stats:\n",
      "RCounter:  1 \n",
      "LCounter:  0\n",
      "char:  R\n",
      "Stats:\n",
      "RCounter:  2 \n",
      "LCounter:  0\n",
      "char:  L\n",
      "Stats:\n",
      "RCounter:  2 \n",
      "LCounter:  1\n",
      "char:  L\n",
      "Stats:\n",
      "RCounter:  2 \n",
      "LCounter:  2\n",
      "char:  R\n",
      "Stats:\n",
      "RCounter:  1 \n",
      "LCounter:  0\n",
      "char:  L\n",
      "Stats:\n",
      "RCounter:  1 \n",
      "LCounter:  1\n",
      "char:  R\n",
      "Stats:\n",
      "RCounter:  1 \n",
      "LCounter:  0\n",
      "char:  L\n",
      "Stats:\n",
      "RCounter:  1 \n",
      "LCounter:  1\n",
      "4\n"
     ]
    }
   ],
   "source": [
    "answerBuilder = Solution()\n",
    "answer = answerBuilder.balancedStringSplit(\"RLRRLLRLRL\")\n",
    "print(answer)"
   ]
  },
  {
   "cell_type": "code",
   "execution_count": null,
   "metadata": {},
   "outputs": [],
   "source": []
  }
 ],
 "metadata": {
  "kernelspec": {
   "display_name": "Python 3",
   "language": "python",
   "name": "python3"
  },
  "language_info": {
   "codemirror_mode": {
    "name": "ipython",
    "version": 3
   },
   "file_extension": ".py",
   "mimetype": "text/x-python",
   "name": "python",
   "nbconvert_exporter": "python",
   "pygments_lexer": "ipython3",
   "version": "3.7.6"
  }
 },
 "nbformat": 4,
 "nbformat_minor": 2
}
